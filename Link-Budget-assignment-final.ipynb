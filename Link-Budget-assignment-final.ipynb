{
 "cells": [
  {
   "cell_type": "code",
   "execution_count": 111,
   "metadata": {},
   "outputs": [],
   "source": [
    "import numpy as np\n",
    "import sys"
   ]
  },
  {
   "cell_type": "code",
   "execution_count": 112,
   "metadata": {},
   "outputs": [],
   "source": [
    "#Given\n",
    "PTX = 22       #W,  power of the transmitter (Tx) of Voyager I\n",
    "R = 22*1e9*1e3 #m,  current distance (range) of Voyager I\n",
    "DRX = 70       #m,  diameter of the receiver (Rx) dish\n",
    "FREQ = 8.4e9   #Hz, carrier frequency\n",
    "GTXDB = 48     #dB, gain of the transmitter antenna in dB\n",
    "RB = 160       #bits/second, data rate or bit rate\n",
    "B = 22.5*1e3   #Hz, bandwidth\n",
    "\n",
    "############################################################################\n",
    "#natural constants\n",
    "c = 299792458  #m/s, speed of light\n",
    "kb = 1.381e-23 #J K^{-1}, Boltzmann constant \n",
    "\n",
    "############################################################################\n",
    "#assumed values\n",
    "ETA = 0.65     #typical efficiency of antenna,see peter berlin textbook\n",
    "BER = 1e-6     #Voyager I bit error rate\n",
    "EbN0DB = 10.4  #db, from assumed BER = 1e-6\n",
    "T01 = 20       #K,  noise temperature of the deep space network receiver\n",
    "T02 = 290      #K,  noise temperature on surface of earth\n",
    "F = 6          #dB, receiver noise figure\n",
    "LmarginB = 20  #dB, path loss margin <- we assume this extra loss along the path to be on the safe side\n",
    "#source for the assumptions, e.g. the 20K temperature: \n",
    "#https://space.stackexchange.com/questions/24338/how-to-calculate-data-rate-of-voyager-1\n"
   ]
  },
  {
   "cell_type": "code",
   "execution_count": 113,
   "metadata": {},
   "outputs": [],
   "source": [
    "#Converting between dB and W\n",
    "def db(pw):\n",
    "    return 10*np.log10(pw) \n",
    "\n",
    "def watts(dbs):\n",
    "    return 10**(dbs/10)\n",
    "\n",
    "############################################################################\n",
    "# Defining the functions to calculate the values of the variables\n",
    "def prxdb(ptxdb, gtxdb, grxdb, lpathdb):\n",
    "    \"\"\"\n",
    "        LINK BUDGET EQUATION. gives the power we get at the receiver.\n",
    "        Power received by the receiver in db, depending on:\n",
    "         - PTx(dB): power of the transceiver in dB\n",
    "         - GTx(dB): transceiver antenna gain in dB\n",
    "         - GRx(dB): receiver antenna gain in dB\n",
    "         - Lpath(dB): path loss in dB\n",
    "    \"\"\"\n",
    "    return ptxdb + gtxdb + grxdb - lpathdb #=PRx(dB)\n",
    "\n",
    "############################################################################\n",
    "def grxw(eta, dr, wavelength):\n",
    "    \"\"\"\n",
    "        Gain of the receiver antenna in W, depending on:\n",
    "         - eta:    efficiency of the antenna\n",
    "         - dr(m):  diameter of the antenna in m\n",
    "         - wavelength(m): wavelength of the incoming signal in m\n",
    "    \"\"\"\n",
    "    return eta*(np.pi*dr/wavelength)**2 #=GRx(W)\n",
    "\n",
    "############################################################################\n",
    "def lpdb(wavelength, range):\n",
    "    \"\"\"\n",
    "        Lpathdb, the power lost along the path, depending on:\n",
    "         - wavelength(m): wavelength of the signal in m\n",
    "         - range(m): distance (range) of the path in m\n",
    "    \"\"\"\n",
    "    return -10*np.log10(wavelength**2 / (16*np.pi**2 * range**2))\n",
    "\n",
    "############################################################################\n",
    "def lpdbprx(ptxdb, prxmindb, gtxdb, grxdb, lmargindb):\n",
    "    \"\"\"\n",
    "        Path loss Lpath(db) in dB depending on,\n",
    "         - PRxmin(dB): minimum power required at the receiver in dB\n",
    "         - PTx(dB): power of the transceiver in dB\n",
    "         - GTx(dB): transceiver antenna gain in dB\n",
    "         - GRx(dB): receiver antenna gain in dB\n",
    "         - Lmargin(dB): path loss in dB\n",
    "    \"\"\"\n",
    "    return ptxdb - prxmindb + gtxdb + grxdb - lmargindb\n",
    "\n",
    "############################################################################\n",
    "def snrdb(ebn0, rb, b):\n",
    "    \"\"\" Signal to noise ratio SNR in dB, depending on\n",
    "         - ratio Eb/N0 in dB\n",
    "         - data rate or bit rate, Rb\n",
    "         - bandwidth B\n",
    "    \"\"\"\n",
    "    return ebn0 + 10*np.log10(rb / b)\n",
    "\n",
    "############################################################################\n",
    "def prxdbmin(pndb, snreqdb):\n",
    "    \"\"\" Power at receiver in dB depending on \n",
    "         - Pn(dB): noise power of receiver in dB \n",
    "         - SNRreq(dB): required signal to noise ratio in dB\n",
    "    \"\"\"\n",
    "    return pndb + snreqdb\n",
    "\n",
    "############################################################################\n",
    "def pn(t0, f, b): #noise power\n",
    "    \"\"\" Noise power in Watts, depending on\n",
    "         - kb: Boltzmann constant in J/K\n",
    "         - T0: noise temperature at receiver in K\n",
    "         - F:  Receiver noise figure\n",
    "         - B:  Bandwidth in Hz\n",
    "    \"\"\"\n",
    "    return kb * t0 * 10**(f/10) * b"
   ]
  },
  {
   "cell_type": "code",
   "execution_count": 114,
   "metadata": {},
   "outputs": [
    {
     "name": "stdout",
     "output_type": "stream",
     "text": [
      "\\lamdba (m): 0.03568957833333333\n",
      "PTx(dB):     13.424226808222063\n",
      "GRx(dB):     73.92326348327545\n",
      "Lpath (dB):  317.7818225595651\n"
     ]
    }
   ],
   "source": [
    "LAMBDA = c / FREQ    # converting frequency to wavelength\n",
    "PTXDB = db(PTX)\n",
    "GRXDB = db(grxw(ETA, DRX, LAMBDA))\n",
    "LPATHDB = lpdb(LAMBDA, R)\n",
    "\n",
    "print(\"\\lamdba (m):\", LAMBDA)\n",
    "print(\"PTx(dB):    \", PTXDB)\n",
    "print(\"GRx(dB):    \", GRXDB)\n",
    "print(\"Lpath (dB): \", LPATHDB)"
   ]
  },
  {
   "cell_type": "code",
   "execution_count": 115,
   "metadata": {},
   "outputs": [
    {
     "name": "stdout",
     "output_type": "stream",
     "text": [
      "1i): Link budget? see slide 28.\n",
      "Link budget = Power arriving at receiver, PRx(dB): -182.4343322680676 dB\n",
      "Link budget = Power arriving at receiver, PRx(W):  5.709088472072208e-19 W\n"
     ]
    }
   ],
   "source": [
    "PRXDB = prxdb(PTXDB, GTXDB, GRXDB, LPATHDB)\n",
    "print(\"1i): Link budget? see slide 28.\")\n",
    "print(\"Link budget = Power arriving at receiver, PRx(dB):\", PRXDB, \"dB\")\n",
    "print(\"Link budget = Power arriving at receiver, PRx(W): \", watts(PRXDB), \"W\")"
   ]
  },
  {
   "cell_type": "code",
   "execution_count": 116,
   "metadata": {},
   "outputs": [
    {
     "name": "stdout",
     "output_type": "stream",
     "text": [
      "1ii) Required SNR at receiver? see slide 29.\n",
      "SNRreq(dB):  -11.080625354554376 db\n",
      "SNRreq(W):  0.07797178283684872 W\n"
     ]
    }
   ],
   "source": [
    "SNRrequdb = snrdb(EbN0DB, RB, B)\n",
    "print(\"1ii) Required SNR at receiver? see slide 29.\")\n",
    "print(\"SNRreq(dB): \",SNRrequdb, \"db\")\n",
    "print(\"SNRreq(W): \",watts(SNRrequdb), \"W\")"
   ]
  },
  {
   "cell_type": "code",
   "execution_count": 117,
   "metadata": {},
   "outputs": [
    {
     "name": "stdout",
     "output_type": "stream",
     "text": [
      "2) Determine the maximum range Rmax for Eb/N0 = 0. Method: see slide 30.\n",
      "\n",
      "CASE 1: assumed temperature of receiver T0=20 K\n",
      "Noise power Pn(dB): -166.06593807646024 dB\n",
      "SNR(dB):            -21.480625354554377 dB\n",
      "Noise power Pn(W):  2.4740370114047095e-17 W\n",
      "SNR(W):             0.0071111111111111115 W\n",
      "\n",
      "From PN(dB) and SNR(dB), get min required power at receiver, PRxmin(dB).\n",
      "PRxmin(dB) = Pn(dB) + SNR(dB) = -187.54656343101462 dB\n",
      "PRxmin(W) = Pn(W) * SNR(W) =    1.7593152081100157e-19 W\n",
      "\n",
      "From PRxmin(dB), get max allowable path loss, Lpathmax(dB).\n",
      "Lpathmax(dB) = 302.8940537225121 dB\n",
      "\n",
      "From Lpathmax(dB), get max possible range, Rmax(m).\n",
      "Rmax = 3.9631e+12 m\n",
      "     = 3.9631e+09 km\n"
     ]
    }
   ],
   "source": [
    "print(\"2) Determine the maximum range Rmax for Eb/N0 = 0. Method: see slide 30.\\n\")\n",
    "PNW = pn(T01, F, B)\n",
    "PNDB = db(PNW)\n",
    "SNRdb = snrdb(0, RB, B)\n",
    "\n",
    "print(\"CASE 1: assumed temperature of receiver T0=%g K\" %T01)\n",
    "print(\"Noise power Pn(dB):\", PNDB, \"dB\")\n",
    "print(\"SNR(dB):           \", SNRdb,\"dB\")\n",
    "print(\"Noise power Pn(W): \", watts(PNDB), \"W\")\n",
    "print(\"SNR(W):            \", watts(SNRdb), \"W\\n\")\n",
    "print(\"From PN(dB) and SNR(dB), get min required power at receiver, PRxmin(dB).\")\n",
    "\n",
    "PRXDBMIN = prxdbmin(PNDB, SNRdb)\n",
    "print(\"PRxmin(dB) = Pn(dB) + SNR(dB) =\",PRXDBMIN, \"dB\")\n",
    "print(\"PRxmin(W) = Pn(W) * SNR(W) =   \",watts(PRXDBMIN), \"W\\n\")\n",
    "print(\"From PRxmin(dB), get max allowable path loss, Lpathmax(dB).\")\n",
    "\n",
    "LPDBRX = lpdbprx(PTXDB, PRXDBMIN, GTXDB, GRXDB, LmarginB)\n",
    "43.424, -166.1, 48, 73.85, 20\n",
    "#LPDBRX = 332.85\n",
    "print(\"Lpathmax(dB) =\",LPDBRX, \"dB\\n\")\n",
    "print(\"From Lpathmax(dB), get max possible range, Rmax(m).\")\n",
    "\n",
    "RMAX = np.sqrt(LAMBDA**2 /(16*np.pi**2) * (10**(LPDBRX))**(1/10))\n",
    "print(\"Rmax = %.4e m\"%(RMAX))\n",
    "print(\"     = %.4e km\"%(RMAX*1e-3))"
   ]
  },
  {
   "cell_type": "code",
   "execution_count": 118,
   "metadata": {},
   "outputs": [
    {
     "name": "stdout",
     "output_type": "stream",
     "text": [
      "2) Determine the maximum range Rmax for Eb/N0 = 0. Method: see slide 30.\n",
      "\n",
      "CASE 2: assumed temperature of receiver T0=290 K\n",
      "Noise power Pn(dB): -154.4522580541105 dB\n",
      "SNR(dB):            -21.480625354554377 dB\n",
      "\n",
      "From PN(dB) and SNR(dB), get min required power at receiver, PRxmin(dB).\n",
      "PRxmin(dB) = Pn(dB) + SNR(dB) = -175.93288340866488 dB\n",
      "\n",
      "From PRxmin(dB), get max allowable path loss, Lpathmax(dB).\n",
      "Lpathmax(dB) = 291.2803737001624 dB\n",
      "\n",
      "From Lpathmax(dB), get max possible range, Rmax(m).\n",
      "Rmax = 1.0408e+12 m\n",
      "     = 1.0408e+09 km\n"
     ]
    }
   ],
   "source": [
    "print(\"2) Determine the maximum range Rmax for Eb/N0 = 0. Method: see slide 30.\\n\")\n",
    "PNW = pn(T02, F, B)\n",
    "PNDB = db(PNW)\n",
    "SNRdb = snrdb(0, RB, B)\n",
    "\n",
    "print(\"CASE 2: assumed temperature of receiver T0=%g K\" %T02)\n",
    "print(\"Noise power Pn(dB):\", PNDB, \"dB\")\n",
    "print(\"SNR(dB):           \", SNRdb, \"dB\\n\")\n",
    "print(\"From PN(dB) and SNR(dB), get min required power at receiver, PRxmin(dB).\")\n",
    "\n",
    "PRXDBMIN = prxdbmin(PNDB, SNRdb)\n",
    "print(\"PRxmin(dB) = Pn(dB) + SNR(dB) =\",PRXDBMIN, \"dB\\n\")\n",
    "print(\"From PRxmin(dB), get max allowable path loss, Lpathmax(dB).\")\n",
    "\n",
    "LPDBRX = lpdbprx(PTXDB, PRXDBMIN, GTXDB, GRXDB, LmarginB)\n",
    "print(\"Lpathmax(dB) =\",LPDBRX, \"dB\\n\")\n",
    "print(\"From Lpathmax(dB), get max possible range, Rmax(m).\")\n",
    "\n",
    "RMAX = np.sqrt(LAMBDA**2 /(16*np.pi**2) * (10**(LPDBRX))**(1/10))\n",
    "print(\"Rmax = %.4e m\"%(RMAX))\n",
    "print(\"     = %.4e km\"%(RMAX*1e-3))"
   ]
  },
  {
   "cell_type": "code",
   "execution_count": null,
   "metadata": {},
   "outputs": [],
   "source": []
  },
  {
   "cell_type": "code",
   "execution_count": null,
   "metadata": {},
   "outputs": [],
   "source": []
  }
 ],
 "metadata": {
  "kernelspec": {
   "display_name": "Python 3",
   "language": "python",
   "name": "python3"
  },
  "language_info": {
   "codemirror_mode": {
    "name": "ipython",
    "version": 3
   },
   "file_extension": ".py",
   "mimetype": "text/x-python",
   "name": "python",
   "nbconvert_exporter": "python",
   "pygments_lexer": "ipython3",
   "version": "3.7.3"
  }
 },
 "nbformat": 4,
 "nbformat_minor": 2
}
