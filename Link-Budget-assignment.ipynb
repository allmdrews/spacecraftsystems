{
 "cells": [
  {
   "cell_type": "code",
   "execution_count": 1,
   "metadata": {},
   "outputs": [],
   "source": [
    "import numpy as np\n",
    "import sys"
   ]
  },
  {
   "cell_type": "code",
   "execution_count": 114,
   "metadata": {},
   "outputs": [],
   "source": [
    "#Given\n",
    "PTX = 22       #W\n",
    "R = 22*1e9*1e3 #m\n",
    "DRX = 70       #m\n",
    "FREQ = 8.4e9   #Hz carrier frequency\n",
    "GTXDB = 48     #dB\n",
    "RB = 160       #bits/second DATARATE, BITRATE\n",
    "B = 22.5*1e3   #Hz bandwidth\n",
    "\n",
    "#natural constants\n",
    "c = 299792458  #m/s\n",
    "kb = 1.381e-23 #J K-1\n",
    "\n",
    "#assumed values\n",
    "ETA = 0.65     #typical efficiency antenna,see peter berlin textbook\n",
    "BER = 1e-6     #voyager bit error rate\n",
    "EbN0DB = 10.4  #db, from assumed BER = 1e-6\n",
    "T0 = 20        #K, noise temperature of the deep space network\n",
    "F = 6          #dB, receiver noise figure\n",
    "LmarginB = 20  #dB"
   ]
  },
  {
   "cell_type": "code",
   "execution_count": 115,
   "metadata": {},
   "outputs": [],
   "source": [
    "def prxdb(ptxdb, gtxdb, grxdb, lpathdb):\n",
    "    return ptxdb + gtxdb + grxdb - lpathdb\n",
    "\n",
    "def db(pw):\n",
    "    return 10*np.log10(pw)\n",
    "\n",
    "def watts(dbs):\n",
    "    return 10**(dbs/10)\n",
    "\n",
    "def grxw(eta, dr, wavelength):\n",
    "    return eta*(np.pi*dr/wavelength)**2\n",
    "\n",
    "def lpdb(wavelength, range):\n",
    "    return -10*np.log10(wavelength**2 / (16*np.pi**2 * range))\n",
    "\n",
    "def lpdbprx(ptxdb, prxmindb, gtxdb, grxdb, lmargindb):\n",
    "    return ptxdb - prxmindb + gtxdb + grxdb - lmargindb\n",
    "\n",
    "def snrdb(ebn0, rb, b):\n",
    "    return ebn0 + 10*np.log10(rb / b)\n",
    "\n",
    "def prxdbmin(pndb, snreqdb):\n",
    "    return pndb + snreqdb\n",
    "\n",
    "def pn(t0, f, b): #noise power\n",
    "    return kb * t0 * 10**(f/10) * b"
   ]
  },
  {
   "cell_type": "code",
   "execution_count": 116,
   "metadata": {},
   "outputs": [],
   "source": [
    "LAMBDA = c / FREQ\n",
    "PTXDB = db(PTX)\n",
    "GRXDB = db(grxw(ETA, DRX, LAMBDA))\n",
    "LPATHDB = lpdb(LAMBDA, R)"
   ]
  },
  {
   "cell_type": "code",
   "execution_count": 117,
   "metadata": {},
   "outputs": [
    {
     "name": "stdout",
     "output_type": "stream",
     "text": [
      "1i) -49.01010545984556 dB\n"
     ]
    }
   ],
   "source": [
    "PRXDB = prxdb(PTXDB, GTXDB, GRXDB, LPATHDB)\n",
    "print(\"1i)\", PRXDB, \"dB\")"
   ]
  },
  {
   "cell_type": "code",
   "execution_count": 118,
   "metadata": {},
   "outputs": [
    {
     "name": "stdout",
     "output_type": "stream",
     "text": [
      "1ii) -11.080625354554376 db\n"
     ]
    }
   ],
   "source": [
    "RXSNRdb = snrdb(EbN0DB, RB, B)\n",
    "print(\"1ii)\",RXSNRdb, \"db\")"
   ]
  },
  {
   "cell_type": "code",
   "execution_count": 119,
   "metadata": {},
   "outputs": [
    {
     "name": "stdout",
     "output_type": "stream",
     "text": [
      "2) \n",
      "PRXdb(min) -187.54656343101462 db\n",
      "LpathDB(prxmin) 302.8940537225121 dB\n",
      "Rmax = 3.9631e+12 m\n"
     ]
    }
   ],
   "source": [
    "PNW = pn(T0, F, B)\n",
    "PNDB = db(PNW)\n",
    "SNRdb = snrdb(0, RB, B)\n",
    "PRXDBMIN = prxdbmin(PNDB, SNRdb)# RXSNRdb )\n",
    "LPDBRX = lpdbprx(PTXDB, PRXDBMIN, GTXDB, GRXDB, LmarginB)\n",
    "RMAX = np.sqrt(LAMBDA**2 /(16*np.pi**2) * (10**(LPDBRX))**(1/10))\n",
    "\n",
    "print(\"2) \\nPRXdb(min)\",PRXDBMIN, \"db\")\n",
    "print(\"LpathDB(prxmin)\", LPDBRX, \"dB\")\n",
    "print(\"Rmax = %.4e m\"% RMAX)"
   ]
  },
  {
   "cell_type": "code",
   "execution_count": null,
   "metadata": {},
   "outputs": [],
   "source": []
  },
  {
   "cell_type": "code",
   "execution_count": null,
   "metadata": {},
   "outputs": [],
   "source": []
  }
 ],
 "metadata": {
  "kernelspec": {
   "display_name": "Python 3",
   "language": "python",
   "name": "python3"
  },
  "language_info": {
   "codemirror_mode": {
    "name": "ipython",
    "version": 3
   },
   "file_extension": ".py",
   "mimetype": "text/x-python",
   "name": "python",
   "nbconvert_exporter": "python",
   "pygments_lexer": "ipython3",
   "version": "3.7.3"
  }
 },
 "nbformat": 4,
 "nbformat_minor": 2
}
